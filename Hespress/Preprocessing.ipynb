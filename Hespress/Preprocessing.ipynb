{
 "cells": [
  {
   "cell_type": "code",
   "execution_count": 4,
   "metadata": {},
   "outputs": [],
   "source": [
    "from nltk.corpus import stopwords\n",
    "from nltk.stem.wordnet import WordNetLemmatizer\n",
    "from nltk.stem.porter import PorterStemmer\n",
    "from gensim import corpora, models, similarities\n",
    "import glob\n",
    "import re\n",
    "\n",
    "stopwords_en = stopwords.words('english')\n",
    "stopwords_en.extend(['also','say'])\n",
    "lemmatizer = WordNetLemmatizer()\n",
    "\n",
    "def preprocessing(file):\n",
    "    content = \" \".join(file.readlines())\n",
    "    articles = content.split('\\n __ARTICLE__\\n')[:-1]\n",
    "    articles = [item.lower() for item in articles]\n",
    "    articles = [re.sub('[^a-z]', ' ', item) for item in articles]\n",
    "    articles = [item.split() for item in articles]\n",
    "    articles = [[lemmatizer.lemmatize(t, pos='v') for t in item if t not in stopwords_en and len(t) > 2] for item in articles]\n",
    "    return articles"
   ]
  },
  {
   "cell_type": "code",
   "execution_count": 5,
   "metadata": {},
   "outputs": [
    {
     "name": "stdout",
     "output_type": "stream",
     "text": [
      "['articles\\\\2018_1.txt', 'articles\\\\2018_10.txt', 'articles\\\\2018_11.txt', 'articles\\\\2018_12.txt', 'articles\\\\2018_2.txt', 'articles\\\\2018_3.txt', 'articles\\\\2018_4.txt', 'articles\\\\2018_5.txt', 'articles\\\\2018_6.txt', 'articles\\\\2018_7.txt', 'articles\\\\2018_8.txt', 'articles\\\\2018_9.txt', 'articles\\\\2019_1.txt', 'articles\\\\2019_10.txt', 'articles\\\\2019_11.txt', 'articles\\\\2019_12.txt', 'articles\\\\2019_2.txt', 'articles\\\\2019_3.txt', 'articles\\\\2019_4.txt', 'articles\\\\2019_5.txt', 'articles\\\\2019_6.txt', 'articles\\\\2019_7.txt', 'articles\\\\2019_8.txt', 'articles\\\\2019_9.txt']\n"
     ]
    }
   ],
   "source": [
    "dataset = glob.glob('articles\\\\*.txt')\n",
    "print(dataset)"
   ]
  },
  {
   "cell_type": "code",
   "execution_count": 6,
   "metadata": {},
   "outputs": [],
   "source": [
    "documents = []\n",
    "for item in dataset:\n",
    "    f = open(item, mode='r', encoding='utf-8')\n",
    "    tokens = preprocessing(f)\n",
    "    documents.extend(tokens)"
   ]
  },
  {
   "cell_type": "code",
   "execution_count": 7,
   "metadata": {},
   "outputs": [],
   "source": [
    "dictionary = corpora.Dictionary(documents)\n",
    "corpus_doc2bow_vectors = [dictionary.doc2bow(doc) for doc in documents]\n",
    "\n",
    "tfidf_model = models.TfidfModel(corpus_doc2bow_vectors, id2word=dictionary, normalize=False)\n",
    "corpus_tfidf_vectors = tfidf_model[corpus_doc2bow_vectors]"
   ]
  },
  {
   "cell_type": "markdown",
   "metadata": {},
   "source": [
    "# run LDA model"
   ]
  },
  {
   "cell_type": "code",
   "execution_count": 8,
   "metadata": {},
   "outputs": [
    {
     "name": "stdout",
     "output_type": "stream",
     "text": [
      "Topic: 0 \n",
      "Words: 0.007*\"morocco\" + 0.007*\"moroccan\" + 0.007*\"women\" + 0.006*\"say\" + 0.005*\"rabat\" + 0.005*\"year\" + 0.005*\"world\" + 0.004*\"president\" + 0.004*\"people\" + 0.004*\"make\"\n",
      "Topic: 1 \n",
      "Words: 0.020*\"morocco\" + 0.010*\"say\" + 0.007*\"moroccan\" + 0.006*\"sahara\" + 0.006*\"rabat\" + 0.005*\"polisario\" + 0.005*\"western\" + 0.005*\"algeria\" + 0.005*\"political\" + 0.004*\"government\"\n",
      "Topic: 2 \n",
      "Words: 0.015*\"morocco\" + 0.009*\"percent\" + 0.007*\"moroccan\" + 0.006*\"increase\" + 0.006*\"say\" + 0.005*\"year\" + 0.005*\"development\" + 0.005*\"rabat\" + 0.004*\"report\" + 0.004*\"mad\"\n",
      "Topic: 3 \n",
      "Words: 0.011*\"morocco\" + 0.010*\"moroccan\" + 0.007*\"team\" + 0.006*\"festival\" + 0.006*\"world\" + 0.005*\"say\" + 0.005*\"make\" + 0.004*\"first\" + 0.004*\"year\" + 0.004*\"rabat\"\n",
      "Topic: 4 \n",
      "Words: 0.020*\"morocco\" + 0.006*\"say\" + 0.006*\"african\" + 0.005*\"security\" + 0.005*\"africa\" + 0.005*\"polisario\" + 0.004*\"moroccan\" + 0.004*\"countries\" + 0.004*\"iran\" + 0.004*\"rabat\"\n",
      "Topic: 5 \n",
      "Words: 0.016*\"morocco\" + 0.010*\"moroccan\" + 0.008*\"say\" + 0.007*\"rabat\" + 0.006*\"team\" + 0.006*\"football\" + 0.005*\"world\" + 0.005*\"spanish\" + 0.004*\"national\" + 0.004*\"year\"\n",
      "Topic: 6 \n",
      "Words: 0.017*\"morocco\" + 0.008*\"moroccan\" + 0.007*\"say\" + 0.006*\"rabat\" + 0.004*\"one\" + 0.004*\"world\" + 0.004*\"new\" + 0.003*\"make\" + 0.003*\"two\" + 0.003*\"first\"\n",
      "Topic: 7 \n",
      "Words: 0.032*\"morocco\" + 0.010*\"say\" + 0.009*\"moroccan\" + 0.007*\"rabat\" + 0.006*\"countries\" + 0.006*\"country\" + 0.005*\"african\" + 0.005*\"world\" + 0.004*\"visit\" + 0.004*\"saudi\"\n",
      "Topic: 8 \n",
      "Words: 0.010*\"morocco\" + 0.010*\"say\" + 0.009*\"moroccan\" + 0.008*\"police\" + 0.007*\"rabat\" + 0.006*\"arrest\" + 0.006*\"suspect\" + 0.004*\"security\" + 0.004*\"report\" + 0.004*\"accord\"\n",
      "Topic: 9 \n",
      "Words: 0.010*\"moroccan\" + 0.009*\"government\" + 0.009*\"say\" + 0.008*\"morocco\" + 0.006*\"rabat\" + 0.006*\"minister\" + 0.005*\"education\" + 0.005*\"school\" + 0.005*\"teachers\" + 0.004*\"protest\"\n"
     ]
    }
   ],
   "source": [
    "lda_model = models.LdaMulticore(corpus_doc2bow_vectors, num_topics=10, id2word=dictionary, passes=2, workers=2)\n",
    "\n",
    "for idx, topic in lda_model.print_topics(-1):\n",
    "    print('Topic: {} \\nWords: {}'.format(idx, topic))"
   ]
  },
  {
   "cell_type": "markdown",
   "metadata": {},
   "source": [
    "# LDA TF-IDF"
   ]
  },
  {
   "cell_type": "code",
   "execution_count": 11,
   "metadata": {},
   "outputs": [
    {
     "name": "stdout",
     "output_type": "stream",
     "text": [
      "Topic: 0 Word: 0.004*\"polisario\" + 0.004*\"sahara\" + 0.003*\"western\" + 0.003*\"algeria\" + 0.003*\"conflict\" + 0.002*\"morocco\" + 0.002*\"king\" + 0.002*\"african\" + 0.002*\"political\" + 0.002*\"africa\"\n",
      "\n",
      "Topic: 1 Word: 0.004*\"police\" + 0.004*\"suspect\" + 0.004*\"migrants\" + 0.003*\"arrest\" + 0.003*\"spanish\" + 0.003*\"bouteflika\" + 0.003*\"drug\" + 0.003*\"dgsn\" + 0.002*\"migration\" + 0.002*\"traffic\"\n",
      "\n",
      "Topic: 2 Word: 0.002*\"energy\" + 0.002*\"iran\" + 0.002*\"company\" + 0.002*\"african\" + 0.002*\"countries\" + 0.002*\"project\" + 0.002*\"morocco\" + 0.002*\"price\" + 0.002*\"africa\" + 0.002*\"bourita\"\n",
      "\n",
      "Topic: 3 Word: 0.002*\"percent\" + 0.002*\"raissouni\" + 0.002*\"women\" + 0.002*\"abortion\" + 0.002*\"morocco\" + 0.002*\"mad\" + 0.001*\"increase\" + 0.001*\"company\" + 0.001*\"couscous\" + 0.001*\"world\"\n",
      "\n",
      "Topic: 4 Word: 0.004*\"teachers\" + 0.004*\"football\" + 0.004*\"team\" + 0.003*\"club\" + 0.003*\"referee\" + 0.003*\"game\" + 0.003*\"caf\" + 0.002*\"match\" + 0.002*\"play\" + 0.002*\"wydad\"\n",
      "\n",
      "Topic: 5 Word: 0.003*\"flight\" + 0.002*\"women\" + 0.002*\"attack\" + 0.002*\"pope\" + 0.002*\"ramadan\" + 0.002*\"police\" + 0.002*\"children\" + 0.002*\"ram\" + 0.001*\"airport\" + 0.001*\"wear\"\n",
      "\n",
      "Topic: 6 Word: 0.002*\"bank\" + 0.002*\"women\" + 0.002*\"people\" + 0.002*\"marrakech\" + 0.001*\"israel\" + 0.001*\"bus\" + 0.001*\"tourists\" + 0.001*\"city\" + 0.001*\"right\" + 0.001*\"social\"\n",
      "\n",
      "Topic: 7 Word: 0.004*\"students\" + 0.003*\"education\" + 0.003*\"school\" + 0.002*\"fifa\" + 0.002*\"cup\" + 0.002*\"train\" + 0.002*\"morocco\" + 0.002*\"bid\" + 0.002*\"world\" + 0.002*\"french\"\n",
      "\n",
      "Topic: 8 Word: 0.003*\"polisario\" + 0.002*\"military\" + 0.002*\"saudi\" + 0.002*\"activists\" + 0.002*\"protest\" + 0.002*\"camp\" + 0.001*\"report\" + 0.001*\"right\" + 0.001*\"algeria\" + 0.001*\"workers\"\n",
      "\n",
      "Topic: 9 Word: 0.002*\"dog\" + 0.002*\"climate\" + 0.002*\"cat\" + 0.002*\"festival\" + 0.001*\"bid\" + 0.001*\"morocco\" + 0.001*\"saudi\" + 0.001*\"king\" + 0.001*\"water\" + 0.001*\"world\"\n",
      "\n"
     ]
    }
   ],
   "source": [
    "lda_model_tfidf = models.LdaMulticore(corpus_tfidf_vectors, num_topics=10, id2word=dictionary, passes=2, workers=4)\n",
    "for idx, topic in lda_model_tfidf.print_topics(-1):\n",
    "    print('Topic: {} Word: {}\\n'.format(idx, topic))"
   ]
  },
  {
   "cell_type": "code",
   "execution_count": null,
   "metadata": {},
   "outputs": [],
   "source": []
  }
 ],
 "metadata": {
  "kernelspec": {
   "display_name": "Python 3",
   "language": "python",
   "name": "python3"
  },
  "language_info": {
   "codemirror_mode": {
    "name": "ipython",
    "version": 3
   },
   "file_extension": ".py",
   "mimetype": "text/x-python",
   "name": "python",
   "nbconvert_exporter": "python",
   "pygments_lexer": "ipython3",
   "version": "3.7.4"
  }
 },
 "nbformat": 4,
 "nbformat_minor": 2
}
