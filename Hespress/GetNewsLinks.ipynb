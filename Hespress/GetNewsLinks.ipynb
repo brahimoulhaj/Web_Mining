{
 "cells": [
  {
   "cell_type": "code",
   "execution_count": 1,
   "metadata": {},
   "outputs": [
    {
     "name": "stdout",
     "output_type": "stream",
     "text": [
      "223\n"
     ]
    }
   ],
   "source": [
    "from scrapy.selector import Selector\n",
    "import requests\n",
    "\n",
    "site = \"http://www.moroccoworldnews.com/\"\n",
    "\n",
    "href = site+\"2019\"\n",
    "page = requests.get(href)\n",
    "body = page.text\n",
    "\n",
    "num_pages = Selector(text=body).css('span.pages::text').get()\n",
    "num_pages = num_pages.split()[-1]\n",
    "\n",
    "print(num_pages)"
   ]
  },
  {
   "cell_type": "code",
   "execution_count": 8,
   "metadata": {},
   "outputs": [],
   "source": [
    "links_by_month_2019 = [f\"{site}2019/{month}/\" for month in range(1,13)]\n",
    "links_by_month_2018 = [f\"{site}2018/{month}/\" for month in range(1,13)]"
   ]
  },
  {
   "cell_type": "code",
   "execution_count": 14,
   "metadata": {},
   "outputs": [
    {
     "data": {
      "text/plain": [
       "24"
      ]
     },
     "execution_count": 14,
     "metadata": {},
     "output_type": "execute_result"
    }
   ],
   "source": [
    "links_by_month = links_by_month_2018 + links_by_month_2019\n",
    "len(links_by_month)"
   ]
  },
  {
   "cell_type": "code",
   "execution_count": 19,
   "metadata": {},
   "outputs": [
    {
     "data": {
      "text/plain": [
       "459"
      ]
     },
     "execution_count": 19,
     "metadata": {},
     "output_type": "execute_result"
    }
   ],
   "source": [
    "links_of_all_pages = []\n",
    "for link in links_by_month:\n",
    "    page = requests.get(link)\n",
    "    num_pages = str(Selector(text=page.text).css('span.pages::text').get())\n",
    "    num_pages = int(num_pages.split()[-1])\n",
    "    for p in range(1,num_pages+1):\n",
    "        links_of_all_pages.append(f\"{link}page/{p}\")\n",
    "\n",
    "len(links_of_all_pages)"
   ]
  },
  {
   "cell_type": "code",
   "execution_count": 25,
   "metadata": {},
   "outputs": [],
   "source": [
    "test = \"http://www.moroccoworldnews.com/2018/1/page/1\"\n",
    "page_test = requests.get(test)\n",
    "hrefs_test = Selector(text=page_test.text).css('''\n",
    "    div.td-block-row div.td-block-span6 \n",
    "    div.td_module_1 h3.td-module-title \n",
    "    a::attr(href)\n",
    "''').getall()"
   ]
  },
  {
   "cell_type": "code",
   "execution_count": 33,
   "metadata": {},
   "outputs": [],
   "source": [
    "f_test = open('test.txt', 'a', encoding='utf-8')\n",
    "f_test.writelines([t+\"\\n\" for t in hrefs_test])\n",
    "f_test.close()"
   ]
  },
  {
   "cell_type": "code",
   "execution_count": 39,
   "metadata": {},
   "outputs": [],
   "source": [
    "for link in links_of_all_pages:\n",
    "    l = link.split('/')\n",
    "    filename = f\"links\\\\{l[-4]}_{l[-3]}.txt\"\n",
    "    f = open(filename, 'a', encoding='utf-8')\n",
    "    page = requests.get(link)\n",
    "    hrefs = Selector(text=page.text).css('''\n",
    "        div.td-block-row div.td-block-span6 \n",
    "        div.td_module_1 h3.td-module-title \n",
    "        a::attr(href)\n",
    "    ''').getall()\n",
    "    f.writelines([href+\"\\n\" for href in hrefs])\n",
    "    f.close()"
   ]
  },
  {
   "cell_type": "code",
   "execution_count": null,
   "metadata": {},
   "outputs": [],
   "source": []
  }
 ],
 "metadata": {
  "kernelspec": {
   "display_name": "Python 3",
   "language": "python",
   "name": "python3"
  },
  "language_info": {
   "codemirror_mode": {
    "name": "ipython",
    "version": 3
   },
   "file_extension": ".py",
   "mimetype": "text/x-python",
   "name": "python",
   "nbconvert_exporter": "python",
   "pygments_lexer": "ipython3",
   "version": "3.7.4"
  }
 },
 "nbformat": 4,
 "nbformat_minor": 2
}
