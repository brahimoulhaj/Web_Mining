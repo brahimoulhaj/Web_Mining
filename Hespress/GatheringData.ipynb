{
 "cells": [
  {
   "cell_type": "code",
   "execution_count": 1,
   "metadata": {},
   "outputs": [],
   "source": [
    "from scrapy.selector import Selector\n",
    "import requests\n",
    "import glob\n",
    "import re\n",
    "\n",
    "def striphtml(data):\n",
    "    p = re.compile(r'<.*?>')\n",
    "    return p.sub('', data)"
   ]
  },
  {
   "cell_type": "code",
   "execution_count": 2,
   "metadata": {},
   "outputs": [
    {
     "data": {
      "text/plain": [
       "'links\\\\2019_5.txt'"
      ]
     },
     "execution_count": 2,
     "metadata": {},
     "output_type": "execute_result"
    }
   ],
   "source": [
    "txt_files = glob.glob('links\\\\*.txt')\n",
    "txt_files[19]\n",
    "#len(txt_files)"
   ]
  },
  {
   "cell_type": "code",
   "execution_count": 3,
   "metadata": {},
   "outputs": [],
   "source": [
    "all_articles_links = []\n",
    "for file in txt_files:\n",
    "    f = open(file)\n",
    "    all_articles_links.append([link[:-2] for link in f.readlines()])\n",
    "    f.close()"
   ]
  },
  {
   "cell_type": "code",
   "execution_count": 5,
   "metadata": {},
   "outputs": [
    {
     "name": "stdout",
     "output_type": "stream",
     "text": [
      "articles\\2019_6.txt\n",
      "articles\\2019_7.txt\n",
      "articles\\2019_8.txt\n",
      "articles\\2019_9.txt\n"
     ]
    }
   ],
   "source": [
    "for links, file in zip(all_articles_links[20:], txt_files[20:]):\n",
    "    filename = \"articles\\\\\"+file.split('\\\\')[-1]\n",
    "    f = open(filename, \"a\", encoding='utf-8')\n",
    "    for link in links:\n",
    "        page = requests.get(link)\n",
    "        article = \" \".join(Selector(text=page.text).css(\"div.post-info-description p\").getall())\n",
    "        article = striphtml(article)\n",
    "        sep = \"__ARTICLE__\"\n",
    "        f.write(article+\"\\n\"+sep+\"\\n\")\n",
    "    print(filename)\n",
    "    f.close()"
   ]
  },
  {
   "cell_type": "code",
   "execution_count": null,
   "metadata": {},
   "outputs": [],
   "source": []
  }
 ],
 "metadata": {
  "kernelspec": {
   "display_name": "Python 3",
   "language": "python",
   "name": "python3"
  },
  "language_info": {
   "codemirror_mode": {
    "name": "ipython",
    "version": 3
   },
   "file_extension": ".py",
   "mimetype": "text/x-python",
   "name": "python",
   "nbconvert_exporter": "python",
   "pygments_lexer": "ipython3",
   "version": "3.7.4"
  }
 },
 "nbformat": 4,
 "nbformat_minor": 2
}
